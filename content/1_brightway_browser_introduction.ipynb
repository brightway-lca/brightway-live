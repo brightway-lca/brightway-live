{
  "cells": [
    {
      "cell_type": "markdown",
      "metadata": {},
      "source": [
        "# Imports\n",
        "\n",
        "Due to a limitation of Pyodide (see also [the Limitations page of the documentation](https://docs.brightway.dev/projects/live/content/limitations.html#)), a patch is required to use Brightway in the JupyterLite environment:"
      ]
    },
    {
      "cell_type": "code",
      "execution_count": null,
      "metadata": {
        "trusted": true,
        "vscode": {
          "languageId": "plaintext"
        }
      },
      "outputs": [],
      "source": [
        "import micropip\n",
        "await micropip.install(\n",
        "    'https://files.brightway.dev/fs-2.5.1-py2.py3-none-any.whl'\n",
        ")"
      ]
    },
    {
      "cell_type": "markdown",
      "metadata": {},
      "source": [
        "Due to a limitation of Web Assembly, SQL databases cannot be stored in every directory of the file system. The `BRIGHTWAY_DIR` environment variable must be set to make sure the `/tmp/` directory is used for databases."
      ]
    },
    {
      "cell_type": "code",
      "execution_count": null,
      "metadata": {
        "trusted": true
      },
      "outputs": [],
      "source": [
        "import os\n",
        "os.environ[\"BRIGHTWAY_DIR\"] = \"/tmp/\""
      ]
    },
    {
      "cell_type": "markdown",
      "metadata": {},
      "source": [
        "Now we can import the Brightway packages. The Pyodide kernel of the JupyterLite environment uses a [the `micropip` package](https://micropip.pyodide.org/en/stable/) to install other packages. Make sure not to change the exact versions of the Brightway packages. Only the versions listed below have been optimized for use in the JupyterLite environment."
      ]
    },
    {
      "cell_type": "code",
      "execution_count": null,
      "metadata": {
        "trusted": true
      },
      "outputs": [],
      "source": [
        "await micropip.install('bw2data==4.0.dev29', keep_going = True)\n",
        "await micropip.install('bw2io==0.9.dev23', keep_going = True)\n",
        "await micropip.install('bw2calc==2.0.dev14', keep_going = True)"
      ]
    },
    {
      "cell_type": "code",
      "execution_count": null,
      "metadata": {
        "trusted": true
      },
      "outputs": [],
      "source": [
        "import bw2data\n",
        "import bw2calc\n",
        "import bw2io"
      ]
    },
    {
      "cell_type": "markdown",
      "metadata": {},
      "source": [
        "# Brightway Functionality\n",
        "\n",
        "Due to a limitation of Pyodide (see also [the Limitations page of the documentation](https://docs.brightway.dev/projects/live/content/limitations.html#)), Brightway project backup files cannot be loaded at the moment. But we can create a sample database:"
      ]
    },
    {
      "cell_type": "code",
      "execution_count": null,
      "metadata": {
        "trusted": true
      },
      "outputs": [],
      "source": [
        "bw2io.add_example_database(searchable=False)"
      ]
    },
    {
      "cell_type": "markdown",
      "metadata": {},
      "source": [
        "We can now do normal Brightway operations in the Browser:"
      ]
    },
    {
      "cell_type": "code",
      "execution_count": null,
      "metadata": {
        "trusted": true
      },
      "outputs": [],
      "source": [
        "bw2data.databases"
      ]
    },
    {
      "cell_type": "code",
      "execution_count": null,
      "metadata": {
        "trusted": true
      },
      "outputs": [],
      "source": [
        "for obj in bw2data.Database(\"Mobility example\"):\n",
        "    print(obj)"
      ]
    },
    {
      "cell_type": "code",
      "execution_count": null,
      "metadata": {
        "trusted": true
      },
      "outputs": [],
      "source": [
        "co2 = bw2data.get_node(name=\"CO2\")"
      ]
    },
    {
      "cell_type": "code",
      "execution_count": null,
      "metadata": {
        "trusted": true
      },
      "outputs": [],
      "source": [
        "gwp = bw2data.Method((\"GWP\", \"simple\"))\n",
        "gwp.write([(co2.key, 1)])"
      ]
    },
    {
      "cell_type": "code",
      "execution_count": null,
      "metadata": {},
      "outputs": [],
      "source": [
        "lca = bw2calc.LCA({bw2data.get_node(name=\"Electric car\"):1}, method=(\"GWP\", \"simple\"))"
      ]
    },
    {
      "cell_type": "code",
      "execution_count": null,
      "metadata": {},
      "outputs": [],
      "source": [
        "lca.lci()\n",
        "lca.lcia()\n",
        "lca.score"
      ]
    }
  ],
  "metadata": {
    "kernelspec": {
      "display_name": "Python (Pyodide)",
      "language": "python",
      "name": "python"
    },
    "language_info": {
      "codemirror_mode": {
        "name": "python",
        "version": 3
      },
      "file_extension": ".py",
      "mimetype": "text/x-python",
      "name": "python",
      "nbconvert_exporter": "python",
      "pygments_lexer": "ipython3",
      "version": "3.8"
    }
  },
  "nbformat": 4,
  "nbformat_minor": 4
}
